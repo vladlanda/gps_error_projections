{
 "cells": [
  {
   "cell_type": "code",
   "execution_count": 1,
   "metadata": {},
   "outputs": [],
   "source": [
    "import os\n",
    "import pandas as pd\n",
    "import numpy as np\n",
    "from scipy.spatial import ConvexHull, convex_hull_plot_2d\n",
    "\n",
    "\n",
    "from cycler import cycler\n",
    "import glob\n",
    "import re\n",
    "\n",
    "import pickle\n",
    "import seaborn as sns\n",
    "\n",
    "\n",
    "from utilities.utils import date_to_glab_output_file, OUTPUT_root, gLab_output_to_numpy\n",
    "import itertools\n",
    "import datetime\n",
    "\n",
    "import plotly\n",
    "\n",
    "from typing import Tuple,List\n",
    "import mpld3\n",
    "import pickle\n",
    "import xarray\n",
    "\n",
    "\n",
    "import matplotlib.pyplot as plt\n",
    "from matplotlib.widgets import Button, Slider,RadioButtons\n",
    "\n",
    "SMALL_SIZE = 14\n",
    "MEDIUM_SIZE = 16\n",
    "BIGGER_SIZE = 18\n",
    "\n",
    "\n",
    "plt.rc('font', size=SMALL_SIZE)          # controls default text sizes\n",
    "plt.rc('axes', titlesize=SMALL_SIZE)     # fontsize of the axes title\n",
    "plt.rc('axes', labelsize=MEDIUM_SIZE)    # fontsize of the x and y labels\n",
    "plt.rc('xtick', labelsize=SMALL_SIZE)    # fontsize of the tick labels\n",
    "plt.rc('ytick', labelsize=SMALL_SIZE)    # fontsize of the tick labels\n",
    "plt.rc('legend', fontsize=SMALL_SIZE)    # legend fontsize\n",
    "plt.rc('figure', titlesize=BIGGER_SIZE)  # fontsize of the figure title\n",
    "plt.rcParams[\"font.weight\"] = \"bold\"\n",
    "plt.rcParams[\"axes.labelweight\"] = \"bold\""
   ]
  },
  {
   "cell_type": "markdown",
   "metadata": {},
   "source": [
    "### Figure to HTML\n",
    "https://stackoverflow.com/questions/65440054/how-to-save-an-interactive-plot-produced-by-matplot"
   ]
  },
  {
   "cell_type": "code",
   "execution_count": 2,
   "metadata": {},
   "outputs": [
    {
     "data": {
      "text/plain": [
       "(['igs', 'ckm', 'nic'],\n",
       " [2024],\n",
       " ['ramo'],\n",
       " [[datetime.datetime(2024, 3, 21, 0, 0),\n",
       "   datetime.datetime(2024, 3, 22, 0, 0),\n",
       "   datetime.datetime(2024, 3, 23, 0, 0),\n",
       "   datetime.datetime(2024, 3, 24, 0, 0),\n",
       "   datetime.datetime(2024, 3, 25, 0, 0),\n",
       "   datetime.datetime(2024, 3, 26, 0, 0),\n",
       "   datetime.datetime(2024, 3, 27, 0, 0)]])"
      ]
     },
     "execution_count": 2,
     "metadata": {},
     "output_type": "execute_result"
    }
   ],
   "source": [
    "dates_set_file_path = os.path.join('dates_set_single.pk')\n",
    "stations_file_path = os.path.join('stations_single.pk')\n",
    "agencies_file_path = os.path.join('agencies.pk')\n",
    "\n",
    "if os.path.isfile(agencies_file_path):\n",
    "    agencies = pickle.load(open(agencies_file_path,'rb')) + ['nic']\n",
    "\n",
    "if os.path.isfile(stations_file_path):\n",
    "    stations = pickle.load(open(stations_file_path,'rb'))\n",
    "\n",
    "if os.path.isfile(dates_set_file_path):\n",
    "    dates_sets = pickle.load(open(dates_set_file_path,'rb'))\n",
    "\n",
    "# agencies_comb = []\n",
    "# for comb in itertools.combinations(agencies, 2):\n",
    "#     agencies_comb.append(comb)\n",
    "\n",
    "years = list(set([d.year for s in dates_sets for d in s]))\n",
    "dates_by_year = [[d for s in dates_sets for d in s if d.year == year ] for year in years ]\n",
    "\n",
    "agencies,years,stations,dates_by_year"
   ]
  },
  {
   "cell_type": "code",
   "execution_count": 3,
   "metadata": {},
   "outputs": [
    {
     "data": {
      "text/plain": [
       "('OUT/ramo/2024/ramoigs0810.24out', True, ['igs', 'ckm', 'nic'])"
      ]
     },
     "execution_count": 3,
     "metadata": {},
     "output_type": "execute_result"
    }
   ],
   "source": [
    "date = dates_sets[0][0]\n",
    "station = stations[0]\n",
    "agency = agencies[0]\n",
    "\n",
    "out_filename = date_to_glab_output_file(date,station,agency)\n",
    "out_filepath = os.path.join(OUTPUT_root,station,str(date.year),out_filename)\n",
    "out_filepath,os.path.isfile(out_filepath),agencies"
   ]
  },
  {
   "cell_type": "code",
   "execution_count": 4,
   "metadata": {},
   "outputs": [],
   "source": [
    "def generate_xarray(glab_outputs_by_year : List[List[Tuple[str,str,str]]], agencies : List[str],station:str) -> xarray.DataArray:\n",
    "\n",
    "    DAILY_SECONDS = 60*60*24\n",
    "    FIVE_MINUTES_S = 60*5\n",
    "    TIME_SPAN = DAILY_SECONDS//FIVE_MINUTES_S\n",
    "    N_ERRORS = 3\n",
    "\n",
    "    agency_index = {a:i for i,a in enumerate(agencies)}\n",
    "\n",
    "    data = np.empty((len(agency_index),N_ERRORS,0,TIME_SPAN))\n",
    "    data_dict = {a:np.empty((N_ERRORS,0,TIME_SPAN)) for a in agencies}\n",
    "    dates = []\n",
    "    times = np.linspace(FIVE_MINUTES_S,DAILY_SECONDS,TIME_SPAN)\n",
    "    errors = np.array(['north','east','up'])\n",
    "\n",
    "    for glab_outputs in glab_outputs_by_year:\n",
    "        for output_file,agency,year,date in glab_outputs:\n",
    "            \n",
    "            neu,epochs = gLab_output_to_numpy(output_file)  \n",
    "            \n",
    "            indecies_to_fill = (epochs/FIVE_MINUTES_S).astype(int)\n",
    "            nans = np.empty(shape=(TIME_SPAN,N_ERRORS))\n",
    "            nans[:] = np.nan\n",
    "            if len(indecies_to_fill) > 0: \n",
    "                nans[indecies_to_fill,:] = neu         \n",
    "\n",
    "            neu = nans\n",
    "\n",
    "            \n",
    "            tmp_data = data_dict[agency]\n",
    "            con_data = np.concatenate((tmp_data,np.expand_dims(neu.T,1)),1)\n",
    "            data_dict[agency] = con_data\n",
    "\n",
    "\n",
    "            idx = agency_index[agency]\n",
    "            if idx == 0:dates.append(date)\n",
    "            \n",
    "\n",
    "            # print(data.shape,tmp_data.shape,con_data.shape,data_dict)\n",
    "\n",
    "            # return\n",
    "    dates = np.array(dates)\n",
    "    for a in list(data_dict.values()):\n",
    "        print(a.shape)\n",
    "    data = np.stack(list(data_dict.values()))\n",
    "    \n",
    "    print(data.shape)\n",
    "    print(('agency',list(agency_index.keys())),\n",
    "                                      ('error',errors.shape),\n",
    "                                      ('date',dates.shape),\n",
    "                                      ('time(s)',times.shape))\n",
    "    \n",
    "    print(agency_index)\n",
    "\n",
    "    data_array = xarray.DataArray(data,coords=\n",
    "                                  [\n",
    "                                      ('agency',list(agency_index.keys())),\n",
    "                                      ('error',errors),\n",
    "                                      ('date',dates),\n",
    "                                      ('time(s)',times)\n",
    "                                      ],name=station.upper())\n",
    "    return data_array"
   ]
  },
  {
   "cell_type": "code",
   "execution_count": 5,
   "metadata": {},
   "outputs": [],
   "source": [
    "NETCDF_FOLDER = 'netCDF'"
   ]
  },
  {
   "cell_type": "code",
   "execution_count": null,
   "metadata": {},
   "outputs": [
    {
     "name": "stdout",
     "output_type": "stream",
     "text": [
      "(3, 7, 288)\n",
      "(3, 7, 288)\n",
      "(3, 7, 288)\n",
      "(3, 3, 7, 288)\n",
      "('agency', ['igs', 'ckm', 'nic']) ('error', (3,)) ('date', (7,)) ('time(s)', (288,))\n",
      "{'igs': 0, 'ckm': 1, 'nic': 2}\n"
     ]
    }
   ],
   "source": [
    "for station in stations:\n",
    "    # print(station)\n",
    "    glab_outputs_by_year = [[(os.path.join(OUTPUT_root,station,str(date.year),\n",
    "                              date_to_glab_output_file(date,station,agency)),\n",
    "                              agency,str(date.year),date) for date in seq for agency in agencies] for seq in dates_sets ]\n",
    "    \n",
    "    data_array = generate_xarray(glab_outputs_by_year,agencies,station)\n",
    "\n",
    "    cdf_file_path = os.path.join(NETCDF_FOLDER,'{}2024.nc'.format(station.upper()))\n",
    "    os.makedirs(os.path.dirname(cdf_file_path), exist_ok=True)\n",
    "    if os.path.isfile(cdf_file_path): continue\n",
    "\n",
    "    data_array.to_netcdf(cdf_file_path)\n",
    "\n",
    "    # break\n",
    "\n"
   ]
  },
  {
   "cell_type": "code",
   "execution_count": 7,
   "metadata": {},
   "outputs": [],
   "source": [
    "station = 'ramo'\n",
    "cdf_file_path = os.path.join(NETCDF_FOLDER,'{}2022+.nc'.format(station.upper()))\n",
    "data_array = xarray.open_dataarray(cdf_file_path)"
   ]
  },
  {
   "cell_type": "code",
   "execution_count": 26,
   "metadata": {},
   "outputs": [
    {
     "data": {
      "text/plain": [
       "array(1.4442572)"
      ]
     },
     "execution_count": 26,
     "metadata": {},
     "output_type": "execute_result"
    }
   ],
   "source": [
    "a = data_array.loc['ckm','north'].mean().data\n",
    "# plt.plot(a)\n",
    "# plt.show()\n",
    "a"
   ]
  },
  {
   "cell_type": "code",
   "execution_count": 8,
   "metadata": {},
   "outputs": [
    {
     "data": {
      "image/png": "[encoded data removed]",
      "text/plain": [
       "<Figure size 640x480 with 2 Axes>"
      ]
     },
     "metadata": {},
     "output_type": "display_data"
    }
   ],
   "source": [
    "data_array[0,0].shift(date=-200).clip(-5,5).plot()\n",
    "plt.show()"
   ]
  },
  {
   "cell_type": "code",
   "execution_count": 9,
   "metadata": {},
   "outputs": [
    {
     "ename": "IndexError",
     "evalue": "index 7 is out of bounds for axis 0 with size 7",
     "output_type": "error",
     "traceback": [
      "\u001b[0;31m---------------------------------------------------------------------------\u001b[0m",
      "\u001b[0;31mIndexError\u001b[0m                                Traceback (most recent call last)",
      "Cell \u001b[0;32mIn[9], line 2\u001b[0m\n\u001b[1;32m      1\u001b[0m \u001b[38;5;66;03m# (data_array[0,0,200:,:] - data_array[0,0,:-200,:]).plot()\u001b[39;00m\n\u001b[0;32m----> 2\u001b[0m (\u001b[43mdata_array\u001b[49m\u001b[43m[\u001b[49m\u001b[38;5;241;43m0\u001b[39;49m\u001b[43m,\u001b[49m\u001b[38;5;241;43m0\u001b[39;49m\u001b[43m,\u001b[49m\u001b[38;5;241;43m7\u001b[39;49m\u001b[43m,\u001b[49m\u001b[43m:\u001b[49m\u001b[43m]\u001b[49m \u001b[38;5;241m-\u001b[39m data_array[\u001b[38;5;241m0\u001b[39m,\u001b[38;5;241m0\u001b[39m,\u001b[38;5;241m0\u001b[39m,:]\u001b[38;5;241m+\u001b[39m\u001b[38;5;241m1\u001b[39m)\u001b[38;5;241m.\u001b[39mplot()\n\u001b[1;32m      3\u001b[0m (data_array[\u001b[38;5;241m0\u001b[39m,\u001b[38;5;241m0\u001b[39m]\u001b[38;5;241m.\u001b[39mshift(date\u001b[38;5;241m=\u001b[39m\u001b[38;5;241m-\u001b[39m\u001b[38;5;241m700\u001b[39m) \u001b[38;5;241m-\u001b[39m data_array[\u001b[38;5;241m0\u001b[39m,\u001b[38;5;241m0\u001b[39m])\u001b[38;5;241m.\u001b[39mclip(\u001b[38;5;241m-\u001b[39m\u001b[38;5;241m5\u001b[39m,\u001b[38;5;241m5\u001b[39m)\u001b[38;5;241m.\u001b[39mdropna(dim\u001b[38;5;241m=\u001b[39m\u001b[38;5;124m'\u001b[39m\u001b[38;5;124mdate\u001b[39m\u001b[38;5;124m'\u001b[39m,how\u001b[38;5;241m=\u001b[39m\u001b[38;5;124m'\u001b[39m\u001b[38;5;124many\u001b[39m\u001b[38;5;124m'\u001b[39m)\u001b[38;5;241m.\u001b[39mplot(cmap\u001b[38;5;241m=\u001b[39m\u001b[38;5;124m'\u001b[39m\u001b[38;5;124minferno\u001b[39m\u001b[38;5;124m'\u001b[39m)\n",
      "File \u001b[0;32m~/anaconda3/envs/eq39/lib/python3.9/site-packages/xarray/core/dataarray.py:851\u001b[0m, in \u001b[0;36mDataArray.__getitem__\u001b[0;34m(self, key)\u001b[0m\n\u001b[1;32m    848\u001b[0m     \u001b[38;5;28;01mreturn\u001b[39;00m \u001b[38;5;28mself\u001b[39m\u001b[38;5;241m.\u001b[39m_getitem_coord(key)\n\u001b[1;32m    849\u001b[0m \u001b[38;5;28;01melse\u001b[39;00m:\n\u001b[1;32m    850\u001b[0m     \u001b[38;5;66;03m# xarray-style array indexing\u001b[39;00m\n\u001b[0;32m--> 851\u001b[0m     \u001b[38;5;28;01mreturn\u001b[39;00m \u001b[38;5;28;43mself\u001b[39;49m\u001b[38;5;241;43m.\u001b[39;49m\u001b[43misel\u001b[49m\u001b[43m(\u001b[49m\u001b[43mindexers\u001b[49m\u001b[38;5;241;43m=\u001b[39;49m\u001b[38;5;28;43mself\u001b[39;49m\u001b[38;5;241;43m.\u001b[39;49m\u001b[43m_item_key_to_dict\u001b[49m\u001b[43m(\u001b[49m\u001b[43mkey\u001b[49m\u001b[43m)\u001b[49m\u001b[43m)\u001b[49m\n",
      "File \u001b[0;32m~/anaconda3/envs/eq39/lib/python3.9/site-packages/xarray/core/dataarray.py:1461\u001b[0m, in \u001b[0;36mDataArray.isel\u001b[0;34m(self, indexers, drop, missing_dims, **indexers_kwargs)\u001b[0m\n\u001b[1;32m   1456\u001b[0m     \u001b[38;5;28;01mreturn\u001b[39;00m \u001b[38;5;28mself\u001b[39m\u001b[38;5;241m.\u001b[39m_from_temp_dataset(ds)\n\u001b[1;32m   1458\u001b[0m \u001b[38;5;66;03m# Much faster algorithm for when all indexers are ints, slices, one-dimensional\u001b[39;00m\n\u001b[1;32m   1459\u001b[0m \u001b[38;5;66;03m# lists, or zero or one-dimensional np.ndarray's\u001b[39;00m\n\u001b[0;32m-> 1461\u001b[0m variable \u001b[38;5;241m=\u001b[39m \u001b[38;5;28;43mself\u001b[39;49m\u001b[38;5;241;43m.\u001b[39;49m\u001b[43m_variable\u001b[49m\u001b[38;5;241;43m.\u001b[39;49m\u001b[43misel\u001b[49m\u001b[43m(\u001b[49m\u001b[43mindexers\u001b[49m\u001b[43m,\u001b[49m\u001b[43m \u001b[49m\u001b[43mmissing_dims\u001b[49m\u001b[38;5;241;43m=\u001b[39;49m\u001b[43mmissing_dims\u001b[49m\u001b[43m)\u001b[49m\n\u001b[1;32m   1462\u001b[0m indexes, index_variables \u001b[38;5;241m=\u001b[39m isel_indexes(\u001b[38;5;28mself\u001b[39m\u001b[38;5;241m.\u001b[39mxindexes, indexers)\n\u001b[1;32m   1464\u001b[0m coords \u001b[38;5;241m=\u001b[39m {}\n",
      "File \u001b[0;32m~/anaconda3/envs/eq39/lib/python3.9/site-packages/xarray/core/variable.py:1135\u001b[0m, in \u001b[0;36mVariable.isel\u001b[0;34m(self, indexers, missing_dims, **indexers_kwargs)\u001b[0m\n\u001b[1;32m   1132\u001b[0m indexers \u001b[38;5;241m=\u001b[39m drop_dims_from_indexers(indexers, \u001b[38;5;28mself\u001b[39m\u001b[38;5;241m.\u001b[39mdims, missing_dims)\n\u001b[1;32m   1134\u001b[0m key \u001b[38;5;241m=\u001b[39m \u001b[38;5;28mtuple\u001b[39m(indexers\u001b[38;5;241m.\u001b[39mget(dim, \u001b[38;5;28mslice\u001b[39m(\u001b[38;5;28;01mNone\u001b[39;00m)) \u001b[38;5;28;01mfor\u001b[39;00m dim \u001b[38;5;129;01min\u001b[39;00m \u001b[38;5;28mself\u001b[39m\u001b[38;5;241m.\u001b[39mdims)\n\u001b[0;32m-> 1135\u001b[0m \u001b[38;5;28;01mreturn\u001b[39;00m \u001b[38;5;28;43mself\u001b[39;49m\u001b[43m[\u001b[49m\u001b[43mkey\u001b[49m\u001b[43m]\u001b[49m\n",
      "File \u001b[0;32m~/anaconda3/envs/eq39/lib/python3.9/site-packages/xarray/core/variable.py:811\u001b[0m, in \u001b[0;36mVariable.__getitem__\u001b[0;34m(self, key)\u001b[0m\n\u001b[1;32m    798\u001b[0m \u001b[38;5;250m\u001b[39m\u001b[38;5;124;03m\"\"\"Return a new Variable object whose contents are consistent with\u001b[39;00m\n\u001b[1;32m    799\u001b[0m \u001b[38;5;124;03mgetting the provided key from the underlying data.\u001b[39;00m\n\u001b[1;32m    800\u001b[0m \n\u001b[0;32m   (...)\u001b[0m\n\u001b[1;32m    808\u001b[0m \u001b[38;5;124;03marray `x.values` directly.\u001b[39;00m\n\u001b[1;32m    809\u001b[0m \u001b[38;5;124;03m\"\"\"\u001b[39;00m\n\u001b[1;32m    810\u001b[0m dims, indexer, new_order \u001b[38;5;241m=\u001b[39m \u001b[38;5;28mself\u001b[39m\u001b[38;5;241m.\u001b[39m_broadcast_indexes(key)\n\u001b[0;32m--> 811\u001b[0m data \u001b[38;5;241m=\u001b[39m \u001b[43mas_indexable\u001b[49m\u001b[43m(\u001b[49m\u001b[38;5;28;43mself\u001b[39;49m\u001b[38;5;241;43m.\u001b[39;49m\u001b[43m_data\u001b[49m\u001b[43m)\u001b[49m\u001b[43m[\u001b[49m\u001b[43mindexer\u001b[49m\u001b[43m]\u001b[49m\n\u001b[1;32m    812\u001b[0m \u001b[38;5;28;01mif\u001b[39;00m new_order:\n\u001b[1;32m    813\u001b[0m     data \u001b[38;5;241m=\u001b[39m np\u001b[38;5;241m.\u001b[39mmoveaxis(data, \u001b[38;5;28mrange\u001b[39m(\u001b[38;5;28mlen\u001b[39m(new_order)), new_order)\n",
      "File \u001b[0;32m~/anaconda3/envs/eq39/lib/python3.9/site-packages/xarray/core/indexing.py:703\u001b[0m, in \u001b[0;36mMemoryCachedArray.__getitem__\u001b[0;34m(self, key)\u001b[0m\n\u001b[1;32m    702\u001b[0m \u001b[38;5;28;01mdef\u001b[39;00m \u001b[38;5;21m__getitem__\u001b[39m(\u001b[38;5;28mself\u001b[39m, key):\n\u001b[0;32m--> 703\u001b[0m     \u001b[38;5;28;01mreturn\u001b[39;00m \u001b[38;5;28mtype\u001b[39m(\u001b[38;5;28mself\u001b[39m)(_wrap_numpy_scalars(\u001b[38;5;28;43mself\u001b[39;49m\u001b[38;5;241;43m.\u001b[39;49m\u001b[43marray\u001b[49m\u001b[43m[\u001b[49m\u001b[43mkey\u001b[49m\u001b[43m]\u001b[49m))\n",
      "File \u001b[0;32m~/anaconda3/envs/eq39/lib/python3.9/site-packages/xarray/core/indexing.py:670\u001b[0m, in \u001b[0;36mCopyOnWriteArray.__getitem__\u001b[0;34m(self, key)\u001b[0m\n\u001b[1;32m    669\u001b[0m \u001b[38;5;28;01mdef\u001b[39;00m \u001b[38;5;21m__getitem__\u001b[39m(\u001b[38;5;28mself\u001b[39m, key):\n\u001b[0;32m--> 670\u001b[0m     \u001b[38;5;28;01mreturn\u001b[39;00m \u001b[38;5;28mtype\u001b[39m(\u001b[38;5;28mself\u001b[39m)(_wrap_numpy_scalars(\u001b[38;5;28;43mself\u001b[39;49m\u001b[38;5;241;43m.\u001b[39;49m\u001b[43marray\u001b[49m\u001b[43m[\u001b[49m\u001b[43mkey\u001b[49m\u001b[43m]\u001b[49m))\n",
      "File \u001b[0;32m~/anaconda3/envs/eq39/lib/python3.9/site-packages/xarray/core/indexing.py:570\u001b[0m, in \u001b[0;36mLazilyIndexedArray.__getitem__\u001b[0;34m(self, indexer)\u001b[0m\n\u001b[1;32m    568\u001b[0m     array \u001b[38;5;241m=\u001b[39m LazilyVectorizedIndexedArray(\u001b[38;5;28mself\u001b[39m\u001b[38;5;241m.\u001b[39marray, \u001b[38;5;28mself\u001b[39m\u001b[38;5;241m.\u001b[39mkey)\n\u001b[1;32m    569\u001b[0m     \u001b[38;5;28;01mreturn\u001b[39;00m array[indexer]\n\u001b[0;32m--> 570\u001b[0m \u001b[38;5;28;01mreturn\u001b[39;00m \u001b[38;5;28mtype\u001b[39m(\u001b[38;5;28mself\u001b[39m)(\u001b[38;5;28mself\u001b[39m\u001b[38;5;241m.\u001b[39marray, \u001b[38;5;28;43mself\u001b[39;49m\u001b[38;5;241;43m.\u001b[39;49m\u001b[43m_updated_key\u001b[49m\u001b[43m(\u001b[49m\u001b[43mindexer\u001b[49m\u001b[43m)\u001b[49m)\n",
      "File \u001b[0;32m~/anaconda3/envs/eq39/lib/python3.9/site-packages/xarray/core/indexing.py:536\u001b[0m, in \u001b[0;36mLazilyIndexedArray._updated_key\u001b[0;34m(self, new_key)\u001b[0m\n\u001b[1;32m    534\u001b[0m         full_key\u001b[38;5;241m.\u001b[39mappend(k)\n\u001b[1;32m    535\u001b[0m     \u001b[38;5;28;01melse\u001b[39;00m:\n\u001b[0;32m--> 536\u001b[0m         full_key\u001b[38;5;241m.\u001b[39mappend(\u001b[43m_index_indexer_1d\u001b[49m\u001b[43m(\u001b[49m\u001b[43mk\u001b[49m\u001b[43m,\u001b[49m\u001b[43m \u001b[49m\u001b[38;5;28;43mnext\u001b[39;49m\u001b[43m(\u001b[49m\u001b[43miter_new_key\u001b[49m\u001b[43m)\u001b[49m\u001b[43m,\u001b[49m\u001b[43m \u001b[49m\u001b[43msize\u001b[49m\u001b[43m)\u001b[49m)\n\u001b[1;32m    537\u001b[0m full_key \u001b[38;5;241m=\u001b[39m \u001b[38;5;28mtuple\u001b[39m(full_key)\n\u001b[1;32m    539\u001b[0m \u001b[38;5;28;01mif\u001b[39;00m \u001b[38;5;28mall\u001b[39m(\u001b[38;5;28misinstance\u001b[39m(k, integer_types \u001b[38;5;241m+\u001b[39m (\u001b[38;5;28mslice\u001b[39m,)) \u001b[38;5;28;01mfor\u001b[39;00m k \u001b[38;5;129;01min\u001b[39;00m full_key):\n",
      "File \u001b[0;32m~/anaconda3/envs/eq39/lib/python3.9/site-packages/xarray/core/indexing.py:288\u001b[0m, in \u001b[0;36m_index_indexer_1d\u001b[0;34m(old_indexer, applied_indexer, size)\u001b[0m\n\u001b[1;32m    286\u001b[0m         indexer \u001b[38;5;241m=\u001b[39m slice_slice(old_indexer, applied_indexer, size)\n\u001b[1;32m    287\u001b[0m     \u001b[38;5;28;01melse\u001b[39;00m:\n\u001b[0;32m--> 288\u001b[0m         indexer \u001b[38;5;241m=\u001b[39m \u001b[43m_expand_slice\u001b[49m\u001b[43m(\u001b[49m\u001b[43mold_indexer\u001b[49m\u001b[43m,\u001b[49m\u001b[43m \u001b[49m\u001b[43msize\u001b[49m\u001b[43m)\u001b[49m\u001b[43m[\u001b[49m\u001b[43mapplied_indexer\u001b[49m\u001b[43m]\u001b[49m\n\u001b[1;32m    289\u001b[0m \u001b[38;5;28;01melse\u001b[39;00m:\n\u001b[1;32m    290\u001b[0m     indexer \u001b[38;5;241m=\u001b[39m old_indexer[applied_indexer]\n",
      "\u001b[0;31mIndexError\u001b[0m: index 7 is out of bounds for axis 0 with size 7"
     ]
    }
   ],
   "source": [
    "# (data_array[0,0,200:,:] - data_array[0,0,:-200,:]).plot()\n",
    "(data_array[0,0,7,:] - data_array[0,0,0,:]+1).plot()\n",
    "(data_array[0,0].shift(date=-700) - data_array[0,0]).clip(-5,5).dropna(dim='date',how='any').plot(cmap='inferno')"
   ]
  },
  {
   "cell_type": "code",
   "execution_count": 202,
   "metadata": {},
   "outputs": [
    {
     "data": {
      "text/plain": [
       "'ALX2'"
      ]
     },
     "execution_count": 202,
     "metadata": {},
     "output_type": "execute_result"
    }
   ],
   "source": [
    "return\n",
    "data_array.to_netcdf('t.nc')\n",
    "\n",
    "data_array = xarray.open_dataarray('t.nc')\n",
    "\n",
    "\n",
    "%matplotlib inline\n",
    "\n",
    "data_array['date'].dt#.loc['north',:,:].plot(cmap='viridis')\n",
    "masked = data_array.sel(date=data_array['date'].dt.year.isin([2012]))\n",
    "\n",
    "a = masked.loc['igs','north']\n",
    "# a.cla()\n",
    "masked.name"
   ]
  },
  {
   "cell_type": "code",
   "execution_count": 1,
   "metadata": {},
   "outputs": [
    {
     "ename": "FileNotFoundError",
     "evalue": "[Errno 2] No such file or directory: 'OUT/ramo/2022/ramoigs0010.22out'",
     "output_type": "error",
     "traceback": [
      "\u001b[0;31m---------------------------------------------------------------------------\u001b[0m",
      "\u001b[0;31mFileNotFoundError\u001b[0m                         Traceback (most recent call last)",
      "Cell \u001b[0;32mIn[1], line 4\u001b[0m\n\u001b[1;32m      1\u001b[0m output_file \u001b[38;5;241m=\u001b[39m \u001b[38;5;124m'\u001b[39m\u001b[38;5;124mOUT/ramo/2022/ramoigs0010.22out\u001b[39m\u001b[38;5;124m'\u001b[39m\n\u001b[1;32m      3\u001b[0m \u001b[38;5;66;03m# gLab_output_to_numpy(f)\u001b[39;00m\n\u001b[0;32m----> 4\u001b[0m \u001b[38;5;28;01mwith\u001b[39;00m \u001b[38;5;28;43mopen\u001b[39;49m\u001b[43m(\u001b[49m\u001b[43moutput_file\u001b[49m\u001b[43m,\u001b[49m\u001b[38;5;124;43m'\u001b[39;49m\u001b[38;5;124;43mr\u001b[39;49m\u001b[38;5;124;43m'\u001b[39;49m\u001b[43m)\u001b[49m \u001b[38;5;28;01mas\u001b[39;00m f:\n\u001b[1;32m      5\u001b[0m     NEU_START,NEU_END \u001b[38;5;241m=\u001b[39m \u001b[38;5;241m17\u001b[39m,\u001b[38;5;241m20\u001b[39m\n\u001b[1;32m      6\u001b[0m     \u001b[38;5;66;03m# list(map(float,l.split()[NEU_START:NEU_END]))\u001b[39;00m\n",
      "File \u001b[0;32m~/anaconda3/envs/py39/lib/python3.9/site-packages/IPython/core/interactiveshell.py:286\u001b[0m, in \u001b[0;36m_modified_open\u001b[0;34m(file, *args, **kwargs)\u001b[0m\n\u001b[1;32m    279\u001b[0m \u001b[38;5;28;01mif\u001b[39;00m file \u001b[38;5;129;01min\u001b[39;00m {\u001b[38;5;241m0\u001b[39m, \u001b[38;5;241m1\u001b[39m, \u001b[38;5;241m2\u001b[39m}:\n\u001b[1;32m    280\u001b[0m     \u001b[38;5;28;01mraise\u001b[39;00m \u001b[38;5;167;01mValueError\u001b[39;00m(\n\u001b[1;32m    281\u001b[0m         \u001b[38;5;124mf\u001b[39m\u001b[38;5;124m\"\u001b[39m\u001b[38;5;124mIPython won\u001b[39m\u001b[38;5;124m'\u001b[39m\u001b[38;5;124mt let you open fd=\u001b[39m\u001b[38;5;132;01m{\u001b[39;00mfile\u001b[38;5;132;01m}\u001b[39;00m\u001b[38;5;124m by default \u001b[39m\u001b[38;5;124m\"\u001b[39m\n\u001b[1;32m    282\u001b[0m         \u001b[38;5;124m\"\u001b[39m\u001b[38;5;124mas it is likely to crash IPython. If you know what you are doing, \u001b[39m\u001b[38;5;124m\"\u001b[39m\n\u001b[1;32m    283\u001b[0m         \u001b[38;5;124m\"\u001b[39m\u001b[38;5;124myou can use builtins\u001b[39m\u001b[38;5;124m'\u001b[39m\u001b[38;5;124m open.\u001b[39m\u001b[38;5;124m\"\u001b[39m\n\u001b[1;32m    284\u001b[0m     )\n\u001b[0;32m--> 286\u001b[0m \u001b[38;5;28;01mreturn\u001b[39;00m \u001b[43mio_open\u001b[49m\u001b[43m(\u001b[49m\u001b[43mfile\u001b[49m\u001b[43m,\u001b[49m\u001b[43m \u001b[49m\u001b[38;5;241;43m*\u001b[39;49m\u001b[43margs\u001b[49m\u001b[43m,\u001b[49m\u001b[43m \u001b[49m\u001b[38;5;241;43m*\u001b[39;49m\u001b[38;5;241;43m*\u001b[39;49m\u001b[43mkwargs\u001b[49m\u001b[43m)\u001b[49m\n",
      "\u001b[0;31mFileNotFoundError\u001b[0m: [Errno 2] No such file or directory: 'OUT/ramo/2022/ramoigs0010.22out'"
     ]
    }
   ],
   "source": [
    "output_file = 'OUT/ramo/2022/ramoigs0010.22out'\n",
    "\n",
    "# gLab_output_to_numpy(f)\n",
    "with open(output_file,'r') as f:\n",
    "    NEU_START,NEU_END = 17,20\n",
    "    # list(map(float,l.split()[NEU_START:NEU_END]))\n",
    "    lines = f.readlines()\n",
    "    # print(lines)\n",
    "    # neu=np.array([list(map(float,l.split()[NEU_START:NEU_END])) for l in lines if re.match('OUTPUT*', l)])\n",
    "\n",
    "    for l in lines:\n",
    "        # print( re.match('OUTPUT*', l))\n",
    "        pass"
   ]
  },
  {
   "cell_type": "code",
   "execution_count": 63,
   "metadata": {},
   "outputs": [
    {
     "data": {
      "text/plain": [
       "((3, 21, 285), (2, 3, 7, 285), 288)"
      ]
     },
     "execution_count": 63,
     "metadata": {},
     "output_type": "execute_result"
    }
   ],
   "source": [
    "a = np.empty((3, 7, 285))\n",
    "b = np.empty((3, 7, 285))\n",
    "\n",
    "np.concatenate((a,b,b),axis=1).shape,np.stack((a,b)).shape,60*60*24//(60*5)"
   ]
  }
 ],
 "metadata": {
  "kernelspec": {
   "display_name": "py39",
   "language": "python",
   "name": "python3"
  },
  "language_info": {
   "codemirror_mode": {
    "name": "ipython",
    "version": 3
   },
   "file_extension": ".py",
   "mimetype": "text/x-python",
   "name": "python",
   "nbconvert_exporter": "python",
   "pygments_lexer": "ipython3",
   "version": "3.9.21"
  },
  "orig_nbformat": 4
 },
 "nbformat": 4,
 "nbformat_minor": 2
}
