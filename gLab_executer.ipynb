{
 "cells": [
  {
   "cell_type": "code",
   "execution_count": 2,
   "metadata": {},
   "outputs": [
    {
     "data": {
      "text/plain": [
       "('/media/vladlanda/T5EVO/Projects/Mafat/GPS', 'Linux')"
      ]
     },
     "execution_count": 2,
     "metadata": {},
     "output_type": "execute_result"
    }
   ],
   "source": [
    "import os\n",
    "import glob\n",
    "import json\n",
    "import subprocess\n",
    "import platform\n",
    "import pickle\n",
    "\n",
    "from utilities.utils import date_to_ionex_name,date_to_rinex_name,date_to_clk,date_to_sp3,date_to_glab_output_file,prioritized_sp3_filenames\n",
    "from utilities.utils import ION_root,RNX_root,SP3_root,CLK_root,OUTPUT_root\n",
    "\n",
    "os.path.abspath(os.curdir),platform.system()"
   ]
  },
  {
   "cell_type": "code",
   "execution_count": 3,
   "metadata": {},
   "outputs": [],
   "source": [
    "GLAB_DIR = 'gLAB'\n",
    "SPP_JSON_FILE   = 'SPP_config.json'\n",
    "SPP_CONF_FILE   = 'tmp_config.cfg'\n",
    "# GLAB_RUN_FILE   = 'gLab_run.sh'\n",
    "GLAB_LINUX_FIEL = 'gLAB_linux'\n",
    "\n",
    "SPP_JSON_FILE_PATH =   os.path.join(GLAB_DIR,SPP_JSON_FILE   )\n",
    "SPP_CONF_FILE_PATH =   os.path.join(GLAB_DIR,SPP_CONF_FILE   )\n",
    "# GLAB_RUN_FILE_PATH =   os.path.join(GLAB_DIR,GLAB_RUN_FILE   )\n",
    "GLAB_LINUX_FIEL_PATH = os.path.join(GLAB_DIR,GLAB_LINUX_FIEL )\n",
    "\n",
    "def write_dict_to_file(file_path,data_dict):\n",
    "    f = open(file_path,'w')\n",
    "    for k,v in data_dict.items():\n",
    "        str_to_write = '{} {}\\r\\n'.format(k,v)\n",
    "        f.write(str_to_write)\n",
    "    f.close()\n",
    "\n",
    "def date_to_conf_dict(date,station,agency,json_dict,sp3_clk_agency='igs',no_clk_sp3 = False):\n",
    "\n",
    "    _,obs,_,_ = date_to_rinex_name(date,station)\n",
    "    orb       = date_to_sp3(date,sp3_clk_agency)\n",
    "    clk       = date_to_clk(date,sp3_clk_agency)\n",
    "    inx,year,_   = date_to_ionex_name(date,agency)\n",
    "    \n",
    "    out  = date_to_glab_output_file(date,station,agency)\n",
    "\n",
    "    obs = os.path.join(\"..\",RNX_root,obs)\n",
    "    orb = os.path.join(\"..\",SP3_root,orb)\n",
    "    clk = os.path.join(\"..\",CLK_root,clk)\n",
    "    inx = os.path.join(\"..\",ION_root,inx)\n",
    "    out = os.path.join(OUTPUT_root,'{}'.format(station),'{}'.format(year),out)\n",
    "    original_out = out\n",
    "    os.makedirs(os.path.dirname(out), exist_ok=True)\n",
    "    out = os.path.join(\"..\",out)\n",
    "\n",
    "    keys = list(json_dict.keys())\n",
    "    inputs = [obs,orb,clk,inx]\n",
    "    for idx,i in enumerate(inputs):\n",
    "\n",
    "        key = keys[idx]\n",
    "        json_dict[key] = i\n",
    "\n",
    "\n",
    "    json_dict[keys[-1]] = out\n",
    "\n",
    "\n",
    "    if agency == 'nic':del json_dict['-input:inx']\n",
    "    if no_clk_sp3:\n",
    "        del json_dict['-input:orb']\n",
    "        del json_dict['-input:clk']\n",
    "    print(json_dict)\n",
    "\n",
    "    return json_dict,original_out\n",
    "\n",
    "def date_to_conf_dict_v2(date,station,agency,json_dict,sp3_clk_agency='igs'):\n",
    "\n",
    "    _,obs,_,_ = date_to_rinex_name(date,station)\n",
    "    _,orb_list= prioritized_sp3_filenames(date)\n",
    "    orb       = orb_list[0]\n",
    "    clk       = date_to_clk(date,sp3_clk_agency)\n",
    "    inx,year,_   = date_to_ionex_name(date,agency)\n",
    "    \n",
    "    out  = date_to_glab_output_file(date,station,agency)\n",
    "\n",
    "\n",
    "    obs = os.path.join(\"..\",RNX_root,obs)\n",
    "    orb = os.path.join(\"..\",SP3_root,orb)\n",
    "    for sp3 in orb_list:\n",
    "        sp3_file_path =  os.path.join(\"..\",SP3_root,sp3)\n",
    "        if os.path.isfile(sp3_file_path.replace('..','.')):\n",
    "            orb = sp3_file_path\n",
    "            break\n",
    "        \n",
    "    clk = os.path.join(\"..\",CLK_root,clk)\n",
    "    inx = os.path.join(\"..\",ION_root,inx)\n",
    "    out = os.path.join(OUTPUT_root,'{}'.format(station),'{}'.format(year),out)\n",
    "    original_out = out\n",
    "    os.makedirs(os.path.dirname(out), exist_ok=True)\n",
    "    out = os.path.join(\"..\",out)\n",
    "\n",
    "    keys = list(json_dict.keys())\n",
    "    inputs = [obs,orb,clk,inx]\n",
    "    for idx,i in enumerate(inputs):\n",
    "\n",
    "        key = keys[idx]\n",
    "        json_dict[key] = i\n",
    "\n",
    "\n",
    "    json_dict[keys[-1]] = out\n",
    "\n",
    "\n",
    "    if agency == 'nic':del json_dict['-input:inx']\n",
    "    if not os.path.isfile(clk.replace('..','.')):\n",
    "        del json_dict['-input:clk']\n",
    "        del json_dict['-input:orb']\n",
    "\n",
    "        json_dict['-input:sp3'] = orb\n",
    "\n",
    "    print(json_dict)\n",
    "    return json_dict,original_out\n",
    "\n"
   ]
  },
  {
   "cell_type": "code",
   "execution_count": 4,
   "metadata": {},
   "outputs": [
    {
     "name": "stdout",
     "output_type": "stream",
     "text": [
      "2024-03-19 00:00:00 ramo\n",
      "{'-input:obs': '../RNX/ramo0790.24o', '--pre:eclipse': '', '-pre:cs:l1c1': '', '--pre:cs:bw': '', '--pre:cs:li': '', '-pre:smooth': '100', '-pre:smoothMeas': '1 L1P', '-model:brdctranstime': '', '--model:satphasecenter': '', '--model:recphasecenter': '', '--model:arp': '', '-model:trop:nominal': 'UNB3', '-model:trop:mapping': 'Simple', '--filter:trop': '', '-filter:nav': 'kinematic', '-filter:select': '2 C1C L1P', '--filter:maxgdop': '', '-output:file': '../OUT/ramo/2024/ramonic0790.24out', '-input:sp3': '../SP3/IGS0OPSFIN_20240790000_01D_15M_ORB.SP3'}\n"
     ]
    },
    {
     "data": {
      "text/plain": [
       "(None, 'OUT/ramo/2024/ramonic0790.24out', ['igs', 'ckm', 'nic'])"
      ]
     },
     "execution_count": 4,
     "metadata": {},
     "output_type": "execute_result"
    }
   ],
   "source": [
    "\n",
    "dates_set = pickle.load(open('dates_set_single.pk','rb'))\n",
    "stations = pickle.load(open('stations_single.pk','rb'))\n",
    "# dates_set = pickle.load(open('dates_set.pk','rb'))\n",
    "# stations = pickle.load(open('stations.pk','rb'))\n",
    "SPP_dict = json.load(open(SPP_JSON_FILE_PATH,'rb'))\n",
    "agencies = pickle.load(open('agencies.pk','rb')) + ['nic']\n",
    "\n",
    "date = dates_set[0][0]\n",
    "station = stations[0]\n",
    "\n",
    "print(date,station)\n",
    "\n",
    "json_dict_to_save,original_out = date_to_conf_dict_v2(date,station,'nic',SPP_dict)\n",
    "# date_to_conf_dict_v2(date,station,'igs',SPP_dict)\n",
    "\n",
    "write_dict_to_file(SPP_CONF_FILE_PATH,json_dict_to_save),original_out,agencies"
   ]
  },
  {
   "cell_type": "code",
   "execution_count": 5,
   "metadata": {},
   "outputs": [
    {
     "name": "stdout",
     "output_type": "stream",
     "text": [
      "{'-input:obs': '../RNX/ramo0790.24o', '-input:inx': '../ION/igsg0790.24i', '--pre:eclipse': '', '-pre:cs:l1c1': '', '--pre:cs:bw': '', '--pre:cs:li': '', '-pre:smooth': '100', '-pre:smoothMeas': '1 L1P', '-model:brdctranstime': '', '--model:satphasecenter': '', '--model:recphasecenter': '', '--model:arp': '', '-model:trop:nominal': 'UNB3', '-model:trop:mapping': 'Simple', '--filter:trop': '', '-filter:nav': 'kinematic', '-filter:select': '2 C1C L1P', '--filter:maxgdop': '', '-output:file': '../OUT/ramo/2024/ramoigs0790.24out', '-input:sp3': '../SP3/IGS0OPSFIN_20240790000_01D_15M_ORB.SP3'}\n",
      "{'-input:obs': '../RNX/ramo0790.24o', '-input:inx': '../ION/ckmg0790.24i', '--pre:eclipse': '', '-pre:cs:l1c1': '', '--pre:cs:bw': '', '--pre:cs:li': '', '-pre:smooth': '100', '-pre:smoothMeas': '1 L1P', '-model:brdctranstime': '', '--model:satphasecenter': '', '--model:recphasecenter': '', '--model:arp': '', '-model:trop:nominal': 'UNB3', '-model:trop:mapping': 'Simple', '--filter:trop': '', '-filter:nav': 'kinematic', '-filter:select': '2 C1C L1P', '--filter:maxgdop': '', '-output:file': '../OUT/ramo/2024/ramockm0790.24out', '-input:sp3': '../SP3/IGS0OPSFIN_20240790000_01D_15M_ORB.SP3'}\n",
      "{'-input:obs': '../RNX/ramo0790.24o', '--pre:eclipse': '', '-pre:cs:l1c1': '', '--pre:cs:bw': '', '--pre:cs:li': '', '-pre:smooth': '100', '-pre:smoothMeas': '1 L1P', '-model:brdctranstime': '', '--model:satphasecenter': '', '--model:recphasecenter': '', '--model:arp': '', '-model:trop:nominal': 'UNB3', '-model:trop:mapping': 'Simple', '--filter:trop': '', '-filter:nav': 'kinematic', '-filter:select': '2 C1C L1P', '--filter:maxgdop': '', '-output:file': '../OUT/ramo/2024/ramonic0790.24out', '-input:sp3': '../SP3/IGS0OPSFIN_20240790000_01D_15M_ORB.SP3'}\n",
      "{'-input:obs': '../RNX/ramo0800.24o', '-input:inx': '../ION/igsg0800.24i', '--pre:eclipse': '', '-pre:cs:l1c1': '', '--pre:cs:bw': '', '--pre:cs:li': '', '-pre:smooth': '100', '-pre:smoothMeas': '1 L1P', '-model:brdctranstime': '', '--model:satphasecenter': '', '--model:recphasecenter': '', '--model:arp': '', '-model:trop:nominal': 'UNB3', '-model:trop:mapping': 'Simple', '--filter:trop': '', '-filter:nav': 'kinematic', '-filter:select': '2 C1C L1P', '--filter:maxgdop': '', '-output:file': '../OUT/ramo/2024/ramoigs0800.24out', '-input:sp3': '../SP3/IGS0OPSFIN_20240800000_01D_15M_ORB.SP3'}\n",
      "{'-input:obs': '../RNX/ramo0800.24o', '-input:inx': '../ION/ckmg0800.24i', '--pre:eclipse': '', '-pre:cs:l1c1': '', '--pre:cs:bw': '', '--pre:cs:li': '', '-pre:smooth': '100', '-pre:smoothMeas': '1 L1P', '-model:brdctranstime': '', '--model:satphasecenter': '', '--model:recphasecenter': '', '--model:arp': '', '-model:trop:nominal': 'UNB3', '-model:trop:mapping': 'Simple', '--filter:trop': '', '-filter:nav': 'kinematic', '-filter:select': '2 C1C L1P', '--filter:maxgdop': '', '-output:file': '../OUT/ramo/2024/ramockm0800.24out', '-input:sp3': '../SP3/IGS0OPSFIN_20240800000_01D_15M_ORB.SP3'}\n",
      "{'-input:obs': '../RNX/ramo0800.24o', '--pre:eclipse': '', '-pre:cs:l1c1': '', '--pre:cs:bw': '', '--pre:cs:li': '', '-pre:smooth': '100', '-pre:smoothMeas': '1 L1P', '-model:brdctranstime': '', '--model:satphasecenter': '', '--model:recphasecenter': '', '--model:arp': '', '-model:trop:nominal': 'UNB3', '-model:trop:mapping': 'Simple', '--filter:trop': '', '-filter:nav': 'kinematic', '-filter:select': '2 C1C L1P', '--filter:maxgdop': '', '-output:file': '../OUT/ramo/2024/ramonic0800.24out', '-input:sp3': '../SP3/IGS0OPSFIN_20240800000_01D_15M_ORB.SP3'}\n",
      "{'-input:obs': '../RNX/ramo0810.24o', '-input:inx': '../ION/igsg0810.24i', '--pre:eclipse': '', '-pre:cs:l1c1': '', '--pre:cs:bw': '', '--pre:cs:li': '', '-pre:smooth': '100', '-pre:smoothMeas': '1 L1P', '-model:brdctranstime': '', '--model:satphasecenter': '', '--model:recphasecenter': '', '--model:arp': '', '-model:trop:nominal': 'UNB3', '-model:trop:mapping': 'Simple', '--filter:trop': '', '-filter:nav': 'kinematic', '-filter:select': '2 C1C L1P', '--filter:maxgdop': '', '-output:file': '../OUT/ramo/2024/ramoigs0810.24out', '-input:sp3': '../SP3/IGS0OPSFIN_20240810000_01D_15M_ORB.SP3'}\n",
      "{'-input:obs': '../RNX/ramo0810.24o', '-input:inx': '../ION/ckmg0810.24i', '--pre:eclipse': '', '-pre:cs:l1c1': '', '--pre:cs:bw': '', '--pre:cs:li': '', '-pre:smooth': '100', '-pre:smoothMeas': '1 L1P', '-model:brdctranstime': '', '--model:satphasecenter': '', '--model:recphasecenter': '', '--model:arp': '', '-model:trop:nominal': 'UNB3', '-model:trop:mapping': 'Simple', '--filter:trop': '', '-filter:nav': 'kinematic', '-filter:select': '2 C1C L1P', '--filter:maxgdop': '', '-output:file': '../OUT/ramo/2024/ramockm0810.24out', '-input:sp3': '../SP3/IGS0OPSFIN_20240810000_01D_15M_ORB.SP3'}\n",
      "{'-input:obs': '../RNX/ramo0810.24o', '--pre:eclipse': '', '-pre:cs:l1c1': '', '--pre:cs:bw': '', '--pre:cs:li': '', '-pre:smooth': '100', '-pre:smoothMeas': '1 L1P', '-model:brdctranstime': '', '--model:satphasecenter': '', '--model:recphasecenter': '', '--model:arp': '', '-model:trop:nominal': 'UNB3', '-model:trop:mapping': 'Simple', '--filter:trop': '', '-filter:nav': 'kinematic', '-filter:select': '2 C1C L1P', '--filter:maxgdop': '', '-output:file': '../OUT/ramo/2024/ramonic0810.24out', '-input:sp3': '../SP3/IGS0OPSFIN_20240810000_01D_15M_ORB.SP3'}\n",
      "{'-input:obs': '../RNX/ramo0820.24o', '-input:inx': '../ION/igsg0820.24i', '--pre:eclipse': '', '-pre:cs:l1c1': '', '--pre:cs:bw': '', '--pre:cs:li': '', '-pre:smooth': '100', '-pre:smoothMeas': '1 L1P', '-model:brdctranstime': '', '--model:satphasecenter': '', '--model:recphasecenter': '', '--model:arp': '', '-model:trop:nominal': 'UNB3', '-model:trop:mapping': 'Simple', '--filter:trop': '', '-filter:nav': 'kinematic', '-filter:select': '2 C1C L1P', '--filter:maxgdop': '', '-output:file': '../OUT/ramo/2024/ramoigs0820.24out', '-input:sp3': '../SP3/IGS0OPSFIN_20240820000_01D_15M_ORB.SP3'}\n",
      "{'-input:obs': '../RNX/ramo0820.24o', '-input:inx': '../ION/ckmg0820.24i', '--pre:eclipse': '', '-pre:cs:l1c1': '', '--pre:cs:bw': '', '--pre:cs:li': '', '-pre:smooth': '100', '-pre:smoothMeas': '1 L1P', '-model:brdctranstime': '', '--model:satphasecenter': '', '--model:recphasecenter': '', '--model:arp': '', '-model:trop:nominal': 'UNB3', '-model:trop:mapping': 'Simple', '--filter:trop': '', '-filter:nav': 'kinematic', '-filter:select': '2 C1C L1P', '--filter:maxgdop': '', '-output:file': '../OUT/ramo/2024/ramockm0820.24out', '-input:sp3': '../SP3/IGS0OPSFIN_20240820000_01D_15M_ORB.SP3'}\n",
      "{'-input:obs': '../RNX/ramo0820.24o', '--pre:eclipse': '', '-pre:cs:l1c1': '', '--pre:cs:bw': '', '--pre:cs:li': '', '-pre:smooth': '100', '-pre:smoothMeas': '1 L1P', '-model:brdctranstime': '', '--model:satphasecenter': '', '--model:recphasecenter': '', '--model:arp': '', '-model:trop:nominal': 'UNB3', '-model:trop:mapping': 'Simple', '--filter:trop': '', '-filter:nav': 'kinematic', '-filter:select': '2 C1C L1P', '--filter:maxgdop': '', '-output:file': '../OUT/ramo/2024/ramonic0820.24out', '-input:sp3': '../SP3/IGS0OPSFIN_20240820000_01D_15M_ORB.SP3'}\n",
      "{'-input:obs': '../RNX/ramo0830.24o', '-input:inx': '../ION/igsg0830.24i', '--pre:eclipse': '', '-pre:cs:l1c1': '', '--pre:cs:bw': '', '--pre:cs:li': '', '-pre:smooth': '100', '-pre:smoothMeas': '1 L1P', '-model:brdctranstime': '', '--model:satphasecenter': '', '--model:recphasecenter': '', '--model:arp': '', '-model:trop:nominal': 'UNB3', '-model:trop:mapping': 'Simple', '--filter:trop': '', '-filter:nav': 'kinematic', '-filter:select': '2 C1C L1P', '--filter:maxgdop': '', '-output:file': '../OUT/ramo/2024/ramoigs0830.24out', '-input:sp3': '../SP3/IGS0OPSFIN_20240830000_01D_15M_ORB.SP3'}\n",
      "{'-input:obs': '../RNX/ramo0830.24o', '-input:inx': '../ION/ckmg0830.24i', '--pre:eclipse': '', '-pre:cs:l1c1': '', '--pre:cs:bw': '', '--pre:cs:li': '', '-pre:smooth': '100', '-pre:smoothMeas': '1 L1P', '-model:brdctranstime': '', '--model:satphasecenter': '', '--model:recphasecenter': '', '--model:arp': '', '-model:trop:nominal': 'UNB3', '-model:trop:mapping': 'Simple', '--filter:trop': '', '-filter:nav': 'kinematic', '-filter:select': '2 C1C L1P', '--filter:maxgdop': '', '-output:file': '../OUT/ramo/2024/ramockm0830.24out', '-input:sp3': '../SP3/IGS0OPSFIN_20240830000_01D_15M_ORB.SP3'}\n",
      "{'-input:obs': '../RNX/ramo0830.24o', '--pre:eclipse': '', '-pre:cs:l1c1': '', '--pre:cs:bw': '', '--pre:cs:li': '', '-pre:smooth': '100', '-pre:smoothMeas': '1 L1P', '-model:brdctranstime': '', '--model:satphasecenter': '', '--model:recphasecenter': '', '--model:arp': '', '-model:trop:nominal': 'UNB3', '-model:trop:mapping': 'Simple', '--filter:trop': '', '-filter:nav': 'kinematic', '-filter:select': '2 C1C L1P', '--filter:maxgdop': '', '-output:file': '../OUT/ramo/2024/ramonic0830.24out', '-input:sp3': '../SP3/IGS0OPSFIN_20240830000_01D_15M_ORB.SP3'}\n",
      "{'-input:obs': '../RNX/ramo0840.24o', '-input:inx': '../ION/igsg0840.24i', '--pre:eclipse': '', '-pre:cs:l1c1': '', '--pre:cs:bw': '', '--pre:cs:li': '', '-pre:smooth': '100', '-pre:smoothMeas': '1 L1P', '-model:brdctranstime': '', '--model:satphasecenter': '', '--model:recphasecenter': '', '--model:arp': '', '-model:trop:nominal': 'UNB3', '-model:trop:mapping': 'Simple', '--filter:trop': '', '-filter:nav': 'kinematic', '-filter:select': '2 C1C L1P', '--filter:maxgdop': '', '-output:file': '../OUT/ramo/2024/ramoigs0840.24out', '-input:sp3': '../SP3/JPL0OPSFIN_20240840000_01D_05M_ORB.SP3'}\n",
      "{'-input:obs': '../RNX/ramo0840.24o', '-input:inx': '../ION/ckmg0840.24i', '--pre:eclipse': '', '-pre:cs:l1c1': '', '--pre:cs:bw': '', '--pre:cs:li': '', '-pre:smooth': '100', '-pre:smoothMeas': '1 L1P', '-model:brdctranstime': '', '--model:satphasecenter': '', '--model:recphasecenter': '', '--model:arp': '', '-model:trop:nominal': 'UNB3', '-model:trop:mapping': 'Simple', '--filter:trop': '', '-filter:nav': 'kinematic', '-filter:select': '2 C1C L1P', '--filter:maxgdop': '', '-output:file': '../OUT/ramo/2024/ramockm0840.24out', '-input:sp3': '../SP3/JPL0OPSFIN_20240840000_01D_05M_ORB.SP3'}\n",
      "{'-input:obs': '../RNX/ramo0840.24o', '--pre:eclipse': '', '-pre:cs:l1c1': '', '--pre:cs:bw': '', '--pre:cs:li': '', '-pre:smooth': '100', '-pre:smoothMeas': '1 L1P', '-model:brdctranstime': '', '--model:satphasecenter': '', '--model:recphasecenter': '', '--model:arp': '', '-model:trop:nominal': 'UNB3', '-model:trop:mapping': 'Simple', '--filter:trop': '', '-filter:nav': 'kinematic', '-filter:select': '2 C1C L1P', '--filter:maxgdop': '', '-output:file': '../OUT/ramo/2024/ramonic0840.24out', '-input:sp3': '../SP3/JPL0OPSFIN_20240840000_01D_05M_ORB.SP3'}\n",
      "{'-input:obs': '../RNX/ramo0850.24o', '-input:inx': '../ION/igsg0850.24i', '--pre:eclipse': '', '-pre:cs:l1c1': '', '--pre:cs:bw': '', '--pre:cs:li': '', '-pre:smooth': '100', '-pre:smoothMeas': '1 L1P', '-model:brdctranstime': '', '--model:satphasecenter': '', '--model:recphasecenter': '', '--model:arp': '', '-model:trop:nominal': 'UNB3', '-model:trop:mapping': 'Simple', '--filter:trop': '', '-filter:nav': 'kinematic', '-filter:select': '2 C1C L1P', '--filter:maxgdop': '', '-output:file': '../OUT/ramo/2024/ramoigs0850.24out', '-input:sp3': '../SP3/JPL0OPSFIN_20240850000_01D_05M_ORB.SP3'}\n",
      "{'-input:obs': '../RNX/ramo0850.24o', '-input:inx': '../ION/ckmg0850.24i', '--pre:eclipse': '', '-pre:cs:l1c1': '', '--pre:cs:bw': '', '--pre:cs:li': '', '-pre:smooth': '100', '-pre:smoothMeas': '1 L1P', '-model:brdctranstime': '', '--model:satphasecenter': '', '--model:recphasecenter': '', '--model:arp': '', '-model:trop:nominal': 'UNB3', '-model:trop:mapping': 'Simple', '--filter:trop': '', '-filter:nav': 'kinematic', '-filter:select': '2 C1C L1P', '--filter:maxgdop': '', '-output:file': '../OUT/ramo/2024/ramockm0850.24out', '-input:sp3': '../SP3/JPL0OPSFIN_20240850000_01D_05M_ORB.SP3'}\n",
      "{'-input:obs': '../RNX/ramo0850.24o', '--pre:eclipse': '', '-pre:cs:l1c1': '', '--pre:cs:bw': '', '--pre:cs:li': '', '-pre:smooth': '100', '-pre:smoothMeas': '1 L1P', '-model:brdctranstime': '', '--model:satphasecenter': '', '--model:recphasecenter': '', '--model:arp': '', '-model:trop:nominal': 'UNB3', '-model:trop:mapping': 'Simple', '--filter:trop': '', '-filter:nav': 'kinematic', '-filter:select': '2 C1C L1P', '--filter:maxgdop': '', '-output:file': '../OUT/ramo/2024/ramonic0850.24out', '-input:sp3': '../SP3/JPL0OPSFIN_20240850000_01D_05M_ORB.SP3'}\n"
     ]
    }
   ],
   "source": [
    "# dates_set = pickle.load(open('dates_set.pk','rb'))\n",
    "# stations = pickle.load(open('stations.pk','rb'))\n",
    "# SPP_dict = json.load(open(SPP_JSON_FILE_PATH,'rb'))\n",
    "# agencies = ['igs','ckm']\n",
    "\n",
    "for seq in dates_set:\n",
    "    for date in seq:\n",
    "        for agency in agencies:\n",
    "            for station in stations:\n",
    "                SPP_dict = json.load(open(SPP_JSON_FILE_PATH,'rb'))\n",
    "                # json_dict_to_save,original_out = date_to_conf_dict(date,station,agency,SPP_dict)\n",
    "                # json_dict_to_save,original_out = date_to_conf_dict(date,station,agency,SPP_dict,no_clk_sp3=True)\n",
    "                json_dict_to_save,original_out = date_to_conf_dict_v2(date,station,agency,SPP_dict)\n",
    "                if os.path.isfile(original_out):continue\n",
    "                write_dict_to_file(SPP_CONF_FILE_PATH,json_dict_to_save)\n",
    "                try:\n",
    "                    subprocess.call([r'cd gLAB; ./{} -input:cfg ./{}'.format(GLAB_LINUX_FIEL,SPP_CONF_FILE)],shell=True)\n",
    "                except Exception as e:\n",
    "                    print(e)\n",
    "\n",
    "\n",
    "\n",
    "            \n",
    "\n",
    "            "
   ]
  },
  {
   "cell_type": "code",
   "execution_count": 5,
   "metadata": {},
   "outputs": [
    {
     "data": {
      "text/plain": [
       "0"
      ]
     },
     "execution_count": 5,
     "metadata": {},
     "output_type": "execute_result"
    }
   ],
   "source": [
    "#https://www.alansiu.net/2021/08/19/troubleshooting-zsh-operation-not-permitted/\n",
    "# ./gLab_linux -input:cfg ./tmp_config.cfg\n",
    "# subprocess.call([r'cd gLAB; ./{} -input:cfg ./{}'.format(GLAB_LINUX_FIEL,SPP_CONF_FILE)],shell=True)"
   ]
  },
  {
   "cell_type": "code",
   "execution_count": null,
   "metadata": {},
   "outputs": [],
   "source": []
  }
 ],
 "metadata": {
  "kernelspec": {
   "display_name": "phd37",
   "language": "python",
   "name": "python3"
  },
  "language_info": {
   "codemirror_mode": {
    "name": "ipython",
    "version": 3
   },
   "file_extension": ".py",
   "mimetype": "text/x-python",
   "name": "python",
   "nbconvert_exporter": "python",
   "pygments_lexer": "ipython3",
   "version": "3.9.18"
  },
  "orig_nbformat": 4,
  "vscode": {
   "interpreter": {
    "hash": "115e650988dc93bf11f6f5d839c6fc7aff03dd034140ae7ebeec37e8d387a50b"
   }
  }
 },
 "nbformat": 4,
 "nbformat_minor": 2
}
