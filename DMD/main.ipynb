{
 "cells": [
  {
   "cell_type": "code",
   "execution_count": 1,
   "metadata": {},
   "outputs": [],
   "source": [
    "from IONEX import IONEXv2\n",
    "import datetime\n",
    "import os"
   ]
  },
  {
   "cell_type": "code",
   "execution_count": 2,
   "metadata": {},
   "outputs": [
    {
     "name": "stderr",
     "output_type": "stream",
     "text": [
      "INFO:root:Checking C1P for 2025-02-12 00:00:00\n",
      "INFO:root:C1P files found: /media/vladlanda/T5EVO/Projects/Mafat/GPS/DMD/downloaded_files/c1pg0430.25i\n",
      "INFO:root:Checking C2P for 2025-02-12 00:00:00\n",
      "INFO:root:C2P files found: /media/vladlanda/T5EVO/Projects/Mafat/GPS/DMD/downloaded_files/c2pg0430.25i\n",
      "INFO:root:Checking RMS products from 2025-02-11 00:00:00 to 2025-02-08 00:00:00\n",
      "INFO:root:Found 0 missing RMS products!\n",
      "INFO:root:Executing DMD...\n",
      "INFO:root:Saving files...\n",
      "INFO:root:Done!\n"
     ]
    }
   ],
   "source": [
    "date = datetime.datetime(2025,2,12)\n",
    "\n",
    "ionex = IONEXv2(save_directory=os.path.join(os.path.abspath('.'),'downloaded_files'),n_prior_days=4)\n",
    "\n",
    "created_file = ionex.predict_dmd_map(date)"
   ]
  },
  {
   "cell_type": "code",
   "execution_count": 3,
   "metadata": {},
   "outputs": [
    {
     "data": {
      "text/plain": [
       "['/media/vladlanda/T5EVO/Projects/Mafat/GPS/DMD/downloaded_files/../products/c1p_dmd_rmsg0430.25i',\n",
       " '/media/vladlanda/T5EVO/Projects/Mafat/GPS/DMD/downloaded_files/../products/c2p_dmd_rmsg0430.25i']"
      ]
     },
     "execution_count": 3,
     "metadata": {},
     "output_type": "execute_result"
    }
   ],
   "source": [
    "created_file"
   ]
  }
 ],
 "metadata": {
  "kernelspec": {
   "display_name": "py39",
   "language": "python",
   "name": "python3"
  },
  "language_info": {
   "codemirror_mode": {
    "name": "ipython",
    "version": 3
   },
   "file_extension": ".py",
   "mimetype": "text/x-python",
   "name": "python",
   "nbconvert_exporter": "python",
   "pygments_lexer": "ipython3",
   "version": "3.9.21"
  }
 },
 "nbformat": 4,
 "nbformat_minor": 2
}
