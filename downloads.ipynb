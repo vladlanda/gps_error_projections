{
 "cells": [
  {
   "cell_type": "code",
   "execution_count": 1,
   "metadata": {},
   "outputs": [],
   "source": [
    "from utilities.utils import generate_dates,download_ionex_v2,date_to_ionex_name,download_sp3_v2,download_clk,ION_root,SP3_root,CLK_root,RNX_root,TEMP_root,download_rinex,prioritized_sp3_filenames,date_to_rinex_name\n",
    "import numpy as np\n",
    "import glob\n",
    "import os\n",
    "import pickle\n",
    "import datetime"
   ]
  },
  {
   "cell_type": "markdown",
   "metadata": {},
   "source": [
    "rinex format: https://files.igs.org/pub/data/format/\n",
    "\n",
    "notes:https://destevez.net/2023/09/galileo-gst-utc-anomaly/\n",
    "\n",
    "Solution types: https://files.igs.org/pub/resource/guidelines/Guidelines_For_Long_Product_Filenames_in_the_IGS_v2.0.pdf (page 6)\n",
    "\n",
    "2.2 Solution Type Identifiers\n",
    " The following solution type identifiers (TTT) are currently supported:\n",
    "1. FIN Final products*\n",
    "2. NRT Near-Real Time products (products between ULT and RTS)\n",
    "3. PRD Predicted products\n",
    "4. RAP Rapid products*\n",
    "5. RTS Real-Time streamed products\n",
    "6. SNX SINEX Combination product\n",
    "7. ULT Ultra-rapid products (every 6 hours)\n",
    "* Definitions as agreed by the relevant IGS Working Group"
   ]
  },
  {
   "cell_type": "markdown",
   "metadata": {},
   "source": [
    "#### Generate dates or load file"
   ]
  },
  {
   "cell_type": "code",
   "execution_count": 2,
   "metadata": {},
   "outputs": [
    {
     "data": {
      "text/plain": [
       "([[datetime.datetime(2025, 1, 31, 0, 0)]], ['upc', 'ckm'], ['ramo'])"
      ]
     },
     "execution_count": 2,
     "metadata": {},
     "output_type": "execute_result"
    }
   ],
   "source": [
    "os.makedirs(TEMP_root,exist_ok=True)\n",
    "\n",
    "dates_set_file_path = os.path.join(TEMP_root,'dates_set_single.pk')\n",
    "stations_file_path =  os.path.join(TEMP_root,'stations_single.pk')\n",
    "agencies_file_path =  os.path.join(TEMP_root,'agencies.pk')\n",
    "\n",
    "# years_list = [2012,2013,2015,2016,2020,2021]+[2014]\n",
    "# years_list = [2022,2023,2024]\n",
    "years_list = [2025]\n",
    "\n",
    "if os.path.isfile(agencies_file_path):\n",
    "    agencies = pickle.load(open(agencies_file_path,'rb'))\n",
    "else:\n",
    "    agencies = ['upc','ckm']\n",
    "    pickle.dump(agencies, open(agencies_file_path,'wb'))\n",
    "\n",
    "if os.path.isfile(stations_file_path):\n",
    "    stations = pickle.load(open(stations_file_path,'rb'))\n",
    "else:\n",
    "    stations = ['ramo']\n",
    "    # stations = ['alx2','phlw','tays','rash','haly','elat','nrif','petah','spir','ramo','nizn','yrcm','dsea','muta','drag','alon','jslm','ammn','hugs','tela','mrav','just','csar','kabr','katz','hram','udmc','laug','hrrn','zako','iser','izqw','albr','issd','izad','izbl','isku','isna','hamd','tehn','abrk','shrz','ahvz','isbs','kuwt']\n",
    "    pickle.dump(stations, open(stations_file_path,'wb'))\n",
    "\n",
    "\n",
    "\n",
    "if os.path.isfile(dates_set_file_path):\n",
    "    dates_sets = pickle.load(open(dates_set_file_path,'rb'))\n",
    "else:\n",
    "    random_seed=223\n",
    "    np.random.seed(random_seed)\n",
    "    dates_sets = []\n",
    "    for year in years_list:\n",
    "        # dates_sets += generate_dates(year,n_contious_dates=365,n_generations=1)# + datetime.timedelta(days=31)\n",
    "        dates_sets += generate_dates(year,n_contious_dates=1,n_generations=1,up_to=datetime.datetime(2025,3,1))# + datetime.timedelta(days=31)\n",
    "    # dates_sets += generate_dates(2014,n_contious_dates=365,n_generations=1)\n",
    "    dates_sets.sort()\n",
    "\n",
    "    pickle.dump(dates_sets, open(dates_set_file_path,'wb'))\n",
    "\n",
    "dates_sets,agencies,stations"
   ]
  },
  {
   "cell_type": "code",
   "execution_count": 3,
   "metadata": {},
   "outputs": [
    {
     "name": "stdout",
     "output_type": "stream",
     "text": [
      "upc ION\n",
      "upc SP3\n",
      "ckm SP3\n",
      "upc CLK\n",
      "ckm CLK\n"
     ]
    }
   ],
   "source": [
    "\n",
    "# file_type = RNX_root\n",
    "\n",
    "# agency = 'ckm'\n",
    "\n",
    "def download_ION_SP3_CLK(agency,file_type,dates_sets):\n",
    "\n",
    "    _names = [date_to_ionex_name(d,agency)[0] for w in dates_sets for d in w]\n",
    "    _in_folder = glob.glob(\"./{}/*i\".format(file_type))\n",
    "    _in_folder = [n.split(\"/\")[-1] for n in _in_folder]\n",
    "    max_retries = 1\n",
    "\n",
    "    while len(set(_names)-set(_in_folder)) > 0 and max_retries > 0:\n",
    "        for i in range(len(dates_sets)):\n",
    "\n",
    "            seq = dates_sets[i]\n",
    "\n",
    "            try:\n",
    "                if file_type == ION_root:\n",
    "                    print(agency,file_type)\n",
    "                    # download_ionex(seq)\n",
    "                    download_ionex_v2(seq)\n",
    "                elif file_type == SP3_root:\n",
    "                    print(agency,file_type)\n",
    "                    download_sp3_v2(seq)\n",
    "                elif file_type == CLK_root:\n",
    "                    print(agency,file_type)\n",
    "                    download_clk(seq)\n",
    "            except:\n",
    "                i -= 1\n",
    "        max_retries -= 1\n",
    "\n",
    "\n",
    "def download_RNX(stations,dates_sets):\n",
    "    for station in stations:\n",
    "        for seq in dates_sets:\n",
    "            # print(seq)\n",
    "            download_rinex(station,seq)\n",
    "\n",
    "\n",
    "for file_type in [ION_root,SP3_root,CLK_root]:\n",
    "    for agency in agencies:\n",
    "        # print(agency,file_type)\n",
    "\n",
    "        download_ION_SP3_CLK(agency,file_type,dates_sets)\n"
   ]
  },
  {
   "cell_type": "code",
   "execution_count": 4,
   "metadata": {},
   "outputs": [],
   "source": [
    "# download_RNX(stations,dates_sets)"
   ]
  }
 ],
 "metadata": {
  "kernelspec": {
   "display_name": "py39",
   "language": "python",
   "name": "python3"
  },
  "language_info": {
   "codemirror_mode": {
    "name": "ipython",
    "version": 3
   },
   "file_extension": ".py",
   "mimetype": "text/x-python",
   "name": "python",
   "nbconvert_exporter": "python",
   "pygments_lexer": "ipython3",
   "version": "3.9.21"
  }
 },
 "nbformat": 4,
 "nbformat_minor": 2
}
