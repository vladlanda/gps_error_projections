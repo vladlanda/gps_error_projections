{
 "cells": [
  {
   "cell_type": "code",
   "execution_count": 7,
   "metadata": {},
   "outputs": [],
   "source": [
    "from utilities.utils import generate_dates,download_ionex,date_to_ionex_name,download_sp3_v2,download_clk,ION_root,SP3_root,CLK_root,RNX_root,download_rinex,prioritized_sp3_filenames,date_to_rinex_name\n",
    "import numpy as np\n",
    "import glob\n",
    "import os\n",
    "import pickle\n",
    "import datetime"
   ]
  },
  {
   "cell_type": "markdown",
   "metadata": {},
   "source": [
    "rinex format: https://files.igs.org/pub/data/format/\n",
    "\n",
    "notes:https://destevez.net/2023/09/galileo-gst-utc-anomaly/\n",
    "\n",
    "Solution types: https://files.igs.org/pub/resource/guidelines/Guidelines_For_Long_Product_Filenames_in_the_IGS_v2.0.pdf (page 6)\n",
    "\n",
    "2.2 Solution Type Identifiers\n",
    " The following solution type identifiers (TTT) are currently supported:\n",
    "1. FIN Final products*\n",
    "2. NRT Near-Real Time products (products between ULT and RTS)\n",
    "3. PRD Predicted products\n",
    "4. RAP Rapid products*\n",
    "5. RTS Real-Time streamed products\n",
    "6. SNX SINEX Combination product\n",
    "7. ULT Ultra-rapid products (every 6 hours)\n",
    "* Definitions as agreed by the relevant IGS Working Group"
   ]
  },
  {
   "cell_type": "markdown",
   "metadata": {},
   "source": [
    "#### Generate dates or load file"
   ]
  },
  {
   "cell_type": "code",
   "execution_count": 10,
   "metadata": {},
   "outputs": [
    {
     "data": {
      "text/plain": [
       "[[datetime.datetime(2024, 3, 2, 0, 0),\n",
       "  datetime.datetime(2024, 3, 3, 0, 0),\n",
       "  datetime.datetime(2024, 3, 4, 0, 0),\n",
       "  datetime.datetime(2024, 3, 5, 0, 0),\n",
       "  datetime.datetime(2024, 3, 6, 0, 0),\n",
       "  datetime.datetime(2024, 3, 7, 0, 0),\n",
       "  datetime.datetime(2024, 3, 8, 0, 0)]]"
      ]
     },
     "execution_count": 10,
     "metadata": {},
     "output_type": "execute_result"
    }
   ],
   "source": [
    "dates_set_file_path = os.path.join('dates_set_single.pk')\n",
    "stations_file_path = os.path.join('stations_single.pk')\n",
    "agencies_file_path = os.path.join('agencies.pk')\n",
    "\n",
    "# years_list = [2012,2013,2015,2016,2020,2021]+[2014]\n",
    "# years_list = [2022,2023,2024]\n",
    "years_list = [2024]\n",
    "\n",
    "if os.path.isfile(agencies_file_path):\n",
    "    agencies = pickle.load(open(agencies_file_path,'rb'))\n",
    "else:\n",
    "    agencies = ['upc','ckm']\n",
    "    pickle.dump(agencies, open(agencies_file_path,'wb'))\n",
    "\n",
    "if os.path.isfile(stations_file_path):\n",
    "    stations = pickle.load(open(stations_file_path,'rb'))\n",
    "else:\n",
    "    stations = ['ramo']\n",
    "    # stations = ['alx2','phlw','tays','rash','haly','elat','nrif','petah','spir','ramo','nizn','yrcm','dsea','muta','drag','alon','jslm','ammn','hugs','tela','mrav','just','csar','kabr','katz','hram','udmc','laug','hrrn','zako','iser','izqw','albr','issd','izad','izbl','isku','isna','hamd','tehn','abrk','shrz','ahvz','isbs','kuwt']\n",
    "    pickle.dump(stations, open(stations_file_path,'wb'))\n",
    "\n",
    "\n",
    "\n",
    "if os.path.isfile(dates_set_file_path):\n",
    "    dates_sets = pickle.load(open(dates_set_file_path,'rb'))\n",
    "else:\n",
    "    # random_seed=223\n",
    "    # np.random.seed(random_seed)\n",
    "    dates_sets = []\n",
    "    for year in years_list:\n",
    "        # dates_sets += generate_dates(year,n_contious_dates=365,n_generations=1)# + datetime.timedelta(days=31)\n",
    "        dates_sets += generate_dates(year,n_contious_dates=7,n_generations=1,up_to=datetime.datetime(2024,4,1))# + datetime.timedelta(days=31)\n",
    "    # dates_sets += generate_dates(2014,n_contious_dates=365,n_generations=1)\n",
    "    dates_sets.sort()\n",
    "\n",
    "    pickle.dump(dates_sets, open(dates_set_file_path,'wb'))\n",
    "\n",
    "dates_sets"
   ]
  },
  {
   "cell_type": "code",
   "execution_count": 11,
   "metadata": {},
   "outputs": [
    {
     "name": "stdout",
     "output_type": "stream",
     "text": [
      "upc ION\n",
      "upc ION\n",
      "ckm ION\n",
      "upc SP3\n",
      "upc SP3\n",
      "ckm SP3\n",
      "ckm SP3\n",
      "upc CLK\n",
      "upc CLK\n",
      "ckm CLK\n",
      "ckm CLK\n"
     ]
    }
   ],
   "source": [
    "\n",
    "# file_type = RNX_root\n",
    "\n",
    "# agency = 'ckm'\n",
    "\n",
    "def download_ION_SP3_CLK(agency,file_type,dates_sets):\n",
    "\n",
    "    _names = [date_to_ionex_name(d,agency)[0] for w in dates_sets for d in w]\n",
    "    _in_folder = glob.glob(\"./{}/*i\".format(file_type))\n",
    "    _in_folder = [n.split(\"/\")[-1] for n in _in_folder]\n",
    "    max_retries = 1\n",
    "\n",
    "    while len(set(_names)-set(_in_folder)) > 0 and max_retries > 0:\n",
    "        for i in range(len(dates_sets)):\n",
    "\n",
    "            seq = dates_sets[i]\n",
    "\n",
    "            try:\n",
    "                if file_type == ION_root:\n",
    "                    print(agency,file_type)\n",
    "                    download_ionex(seq)\n",
    "                elif file_type == SP3_root:\n",
    "                    print(agency,file_type)\n",
    "                    download_sp3_v2(seq)\n",
    "                elif file_type == CLK_root:\n",
    "                    print(agency,file_type)\n",
    "                    download_clk(seq)\n",
    "            except:\n",
    "                i -= 1\n",
    "        max_retries -= 1\n",
    "\n",
    "\n",
    "def download_RNX(stations,dates_sets):\n",
    "    for station in stations:\n",
    "        for seq in dates_sets:\n",
    "            # print(seq)\n",
    "            download_rinex(station,seq)\n",
    "\n",
    "\n",
    "for file_type in [ION_root,SP3_root,CLK_root]:\n",
    "    for agency in agencies:\n",
    "        print(agency,file_type)\n",
    "\n",
    "        download_ION_SP3_CLK(agency,file_type,dates_sets)\n"
   ]
  },
  {
   "cell_type": "code",
   "execution_count": 4,
   "metadata": {},
   "outputs": [],
   "source": [
    "download_RNX(stations,dates_sets)"
   ]
  },
  {
   "cell_type": "code",
   "execution_count": 4,
   "metadata": {},
   "outputs": [
    {
     "data": {
      "text/plain": [
       "(44, 308, 308)"
      ]
     },
     "execution_count": 4,
     "metadata": {},
     "output_type": "execute_result"
    }
   ],
   "source": [
    "len(dates_sets),len([d for w in dates_sets for d in w]),len([date_to_ionex_name(d,'igs')[0] for w in dates_sets for d in w])"
   ]
  },
  {
   "cell_type": "code",
   "execution_count": 5,
   "metadata": {},
   "outputs": [],
   "source": [
    "from collections import Counter\n",
    "\n",
    "\n",
    "\n",
    "\n",
    "\n"
   ]
  },
  {
   "cell_type": "code",
   "execution_count": 6,
   "metadata": {},
   "outputs": [
    {
     "data": {
      "text/plain": [
       "(False, set())"
      ]
     },
     "execution_count": 6,
     "metadata": {},
     "output_type": "execute_result"
    }
   ],
   "source": [
    "_names = [date_to_ionex_name(d,'igs')[0] for w in dates_sets for d in w]\n",
    "_in_folder = glob.glob(\"./ION/*i\")\n",
    "_in_folder = [n.split(\"/\")[-1] for n in _in_folder]\n",
    "\n",
    "\n",
    "len(set(_names)-set(_in_folder)) > 0, set(_names)-set(_in_folder)"
   ]
  },
  {
   "cell_type": "code",
   "execution_count": 11,
   "metadata": {},
   "outputs": [
    {
     "data": {
      "text/plain": [
       "404"
      ]
     },
     "execution_count": 11,
     "metadata": {},
     "output_type": "execute_result"
    }
   ],
   "source": [
    "import requests\n",
    "url='https://cddis.nasa.gov/archive/gnss/products/ionex/2023/259/igsg2590.23i.Z'\n",
    "\n",
    "# response = requests.get(url,verify=False)\n",
    "response = requests.head(url,verify=False)\n",
    "response.status_code"
   ]
  }
 ],
 "metadata": {
  "kernelspec": {
   "display_name": "eq39",
   "language": "python",
   "name": "python3"
  },
  "language_info": {
   "codemirror_mode": {
    "name": "ipython",
    "version": 3
   },
   "file_extension": ".py",
   "mimetype": "text/x-python",
   "name": "python",
   "nbconvert_exporter": "python",
   "pygments_lexer": "ipython3",
   "version": "3.9.18"
  }
 },
 "nbformat": 4,
 "nbformat_minor": 2
}
